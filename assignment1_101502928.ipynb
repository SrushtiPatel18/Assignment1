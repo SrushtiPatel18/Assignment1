{
 "cells": [
  {
   "cell_type": "code",
   "execution_count": 1,
   "id": "ff7c36b7-6d89-4965-acf5-47826a157437",
   "metadata": {},
   "outputs": [
    {
     "name": "stdout",
     "output_type": "stream",
     "text": [
      "Total Minutes for yoga and running:  [[30, 45], [25, 35], [20, 30], [35, 50]]\n",
      "Weightlifting done by the last two friends:  [10, 25]\n",
      "Your friend Alex has completed 30 minutes of yoga, 45 minutes of running, 20 minutes of weightlifting. Total: 0 minutes.\n",
      "The friend with the highest total workout minutes is Stanley with 110 minutes.\n",
      "The friend with the lowest total workout minutes is Taylor with 60 minutes.\n"
     ]
    }
   ],
   "source": [
    "# NAME: Rudramani Dhiman\n",
    "# Assignment 1\n",
    "gym_member = \"Alex Alliton\"\n",
    "# Data type: string\n",
    "preferred_weight_kg = 20.5\n",
    "# Data type: float\n",
    "highest_reps = 25\n",
    "# Data type: integer\n",
    "membership_active = True\n",
    "# Data type: boolean\n",
    "workout_stats = {\n",
    "    \"Alex\": (30, 45, 20),\n",
    "    \"Jamie\": (25, 35, 15),\n",
    "    \"Taylor\": (20, 30, 10),\n",
    "    \"Stanley\": (35, 50, 25)\n",
    "}\n",
    "total_time = {f\"{name}_Total time for workout\": sum(stats) for name, stats in workout_stats.items()}\n",
    "workout_stats.update(total_time)\n",
    "\n",
    "workout_list = [list(stats) for stats in workout_stats.values() if isinstance(stats, tuple)]\n",
    "\n",
    "yoga_running = [row[:2] for row in workout_list]\n",
    "print(\"Total Minutes for yoga and running: \", yoga_running)\n",
    "\n",
    "weightlifting = [row[2] for row in workout_list[-2:]]\n",
    "print(\"Weightlifting done by the last two friends: \", weightlifting)\n",
    "\n",
    "for name, total in workout_stats.items():\n",
    "    if isinstance(total, int) and total >= 120:\n",
    "        print(f\"Great job staying active, {name.split('_')[0]}!\")\n",
    "\n",
    "friend_check = input(\"Track the progress of your friend, ENTER NAME: \")\n",
    "if friend_check in workout_stats and isinstance(workout_stats[friend_check], tuple):\n",
    "    stats = workout_stats[friend_check]\n",
    "    total = workout_stats.get(f\"{friend_check}_Total\", 0)\n",
    "    print(\n",
    "        f\"Your friend {friend_check} has completed {stats[0]} minutes of yoga, \"\n",
    "        f\"{stats[1]} minutes of running, {stats[2]} minutes of weightlifting. \"\n",
    "        f\"Total: {total} minutes.\"\n",
    "    )\n",
    "else:\n",
    "    print(f\"Friend {friend_check} not found in the records.\")\n",
    "totals = {name: total for name, total in workout_stats.items() if isinstance(total, int)}\n",
    "highest_friend = max(totals, key=totals.get)\n",
    "lowest_friend = min(totals, key=totals.get)\n",
    "print(f\"The friend with the highest total workout minutes is {highest_friend.split('_')[0]} with {totals[highest_friend]} minutes.\")\n",
    "print(f\"The friend with the lowest total workout minutes is {lowest_friend.split('_')[0]} with {totals[lowest_friend]} minutes.\")\n"
   ]
  },
  {
   "cell_type": "code",
   "execution_count": null,
   "id": "6016bd73-a395-4a4e-a4d3-aa063676e178",
   "metadata": {},
   "outputs": [],
   "source": []
  }
 ],
 "metadata": {
  "kernelspec": {
   "display_name": "Python 3",
   "language": "python",
   "name": "python3"
  },
  "language_info": {
   "codemirror_mode": {
    "name": "ipython",
    "version": 3
   },
   "file_extension": ".py",
   "mimetype": "text/x-python",
   "name": "python",
   "nbconvert_exporter": "python",
   "pygments_lexer": "ipython3",
   "version": "3.11.9"
  }
 },
 "nbformat": 4,
 "nbformat_minor": 5
}
